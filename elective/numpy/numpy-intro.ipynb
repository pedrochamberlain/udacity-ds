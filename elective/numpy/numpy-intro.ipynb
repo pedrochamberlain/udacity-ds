{
 "cells": [
  {
   "cell_type": "code",
   "execution_count": null,
   "metadata": {},
   "outputs": [],
   "source": [
    "%pip install numpy"
   ]
  },
  {
   "cell_type": "code",
   "execution_count": 2,
   "metadata": {},
   "outputs": [
    {
     "name": "stdout",
     "output_type": "stream",
     "text": [
      "[1 2 3]\n",
      "3\n",
      "(3,)\n",
      "int64\n",
      "<class 'numpy.ndarray'>\n"
     ]
    }
   ],
   "source": [
    "import numpy as np\n",
    "\n",
    "x = np.array([1, 2, 3])\n",
    "print(x)\n",
    "print(x.size)\n",
    "print(x.shape)\n",
    "print(x.dtype)\n",
    "print(type(x))\n",
    "\n",
    "np.save('test_array', x)"
   ]
  },
  {
   "cell_type": "code",
   "execution_count": 3,
   "metadata": {},
   "outputs": [
    {
     "name": "stdout",
     "output_type": "stream",
     "text": [
      "mean:  2.0\n",
      "std:  0.816496580927726\n",
      "max:  3\n",
      "min:  1\n",
      "# positive 3\n",
      "# negative 0\n"
     ]
    }
   ],
   "source": [
    "print('mean: ', x.mean())\n",
    "print('std: ', x.std())\n",
    "print('max: ', x.max())\n",
    "print('min: ', x.min())\n",
    "print('# positive', (x > 0).sum())\n",
    "print('# negative', (x < 0).sum())"
   ]
  },
  {
   "cell_type": "code",
   "execution_count": 17,
   "metadata": {},
   "outputs": [
    {
     "name": "stdout",
     "output_type": "stream",
     "text": [
      "[[1 2 3]\n",
      " [4 5 6]\n",
      " [7 8 9]]\n",
      "9\n",
      "(3, 3)\n",
      "int64\n",
      "<class 'numpy.ndarray'>\n"
     ]
    }
   ],
   "source": [
    "y = np.array([[1, 2, 3], [4, 5, 6], [7, 8, 9]])\n",
    "print(y)\n",
    "print(y.size)\n",
    "print(y.shape)\n",
    "print(y.dtype)\n",
    "print(type(y))"
   ]
  },
  {
   "cell_type": "code",
   "execution_count": 18,
   "metadata": {},
   "outputs": [
    {
     "name": "stdout",
     "output_type": "stream",
     "text": [
      "['1' '2' 'World']\n",
      "3\n",
      "(3,)\n",
      "<U5\n",
      "<class 'numpy.ndarray'>\n"
     ]
    }
   ],
   "source": [
    "z = np.array(['1', '2', 'World'])\n",
    "\n",
    "print(z)\n",
    "print(z.size)\n",
    "print(z.shape)\n",
    "print(z.dtype)\n",
    "print(type(z))\n"
   ]
  },
  {
   "cell_type": "code",
   "execution_count": 19,
   "metadata": {},
   "outputs": [
    {
     "name": "stdout",
     "output_type": "stream",
     "text": [
      "[1.  2.5 3. ]\n",
      "3\n",
      "(3,)\n",
      "float64\n",
      "<class 'numpy.ndarray'>\n"
     ]
    }
   ],
   "source": [
    "v = np.array([1, 2.5, 3])\n",
    "\n",
    "print(v)\n",
    "print(v.size)\n",
    "print(v.shape)\n",
    "print(v.dtype)\n",
    "print(type(v))"
   ]
  },
  {
   "cell_type": "code",
   "execution_count": 20,
   "metadata": {},
   "outputs": [
    {
     "name": "stdout",
     "output_type": "stream",
     "text": [
      "[1. 2. 3.]\n",
      "3\n",
      "(3,)\n",
      "float64\n",
      "<class 'numpy.ndarray'>\n"
     ]
    }
   ],
   "source": [
    "w = np.array([1, 2, 3], dtype=np.float64)\n",
    "\n",
    "print(w)\n",
    "print(w.size)\n",
    "print(w.shape)\n",
    "print(w.dtype)\n",
    "print(type(w))"
   ]
  },
  {
   "cell_type": "code",
   "execution_count": 22,
   "metadata": {},
   "outputs": [
    {
     "name": "stdout",
     "output_type": "stream",
     "text": [
      "[1 2 3]\n"
     ]
    }
   ],
   "source": [
    "x2 = np.load('test_array.npy')\n",
    "\n",
    "print(x2)"
   ]
  }
 ],
 "metadata": {
  "kernelspec": {
   "display_name": "base",
   "language": "python",
   "name": "python3"
  },
  "language_info": {
   "codemirror_mode": {
    "name": "ipython",
    "version": 3
   },
   "file_extension": ".py",
   "mimetype": "text/x-python",
   "name": "python",
   "nbconvert_exporter": "python",
   "pygments_lexer": "ipython3",
   "version": "3.9.12"
  }
 },
 "nbformat": 4,
 "nbformat_minor": 2
}
