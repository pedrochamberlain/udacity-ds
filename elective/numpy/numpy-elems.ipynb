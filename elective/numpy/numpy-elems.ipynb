{
 "cells": [
  {
   "cell_type": "code",
   "execution_count": 1,
   "metadata": {},
   "outputs": [],
   "source": [
    "import numpy as np"
   ]
  },
  {
   "cell_type": "code",
   "execution_count": 11,
   "metadata": {},
   "outputs": [
    {
     "data": {
      "text/plain": [
       "array([1, 2, 3, 4, 5])"
      ]
     },
     "execution_count": 11,
     "metadata": {},
     "output_type": "execute_result"
    }
   ],
   "source": [
    "x = np.arange(1, 6)\n",
    "x"
   ]
  },
  {
   "cell_type": "code",
   "execution_count": 7,
   "metadata": {},
   "outputs": [
    {
     "name": "stdout",
     "output_type": "stream",
     "text": [
      "1st element of x:  1\n",
      "2st element of x:  2\n",
      "4st element of x:  5\n"
     ]
    }
   ],
   "source": [
    "print('1st element of x: ', x[0])\n",
    "print('2st element of x: ', x[1])\n",
    "print('4st element of x: ', x[4])"
   ]
  },
  {
   "cell_type": "code",
   "execution_count": 8,
   "metadata": {},
   "outputs": [
    {
     "name": "stdout",
     "output_type": "stream",
     "text": [
      "1st element of x:  1\n",
      "2st element of x:  2\n",
      "4st element of x:  5\n"
     ]
    }
   ],
   "source": [
    "print('1st element of x: ', x[-5])\n",
    "print('2st element of x: ', x[-4])\n",
    "print('4st element of x: ', x[-1])"
   ]
  },
  {
   "cell_type": "code",
   "execution_count": 9,
   "metadata": {},
   "outputs": [
    {
     "data": {
      "text/plain": [
       "array([ 1,  2,  3, 20,  5])"
      ]
     },
     "execution_count": 9,
     "metadata": {},
     "output_type": "execute_result"
    }
   ],
   "source": [
    "x[3] = 20\n",
    "x"
   ]
  },
  {
   "cell_type": "code",
   "execution_count": 13,
   "metadata": {},
   "outputs": [
    {
     "data": {
      "text/plain": [
       "array([[1, 2, 3],\n",
       "       [4, 5, 6],\n",
       "       [7, 8, 9]])"
      ]
     },
     "execution_count": 13,
     "metadata": {},
     "output_type": "execute_result"
    }
   ],
   "source": [
    "y = np.arange(1, 10).reshape(3, 3)\n",
    "y"
   ]
  },
  {
   "cell_type": "code",
   "execution_count": 14,
   "metadata": {},
   "outputs": [
    {
     "name": "stdout",
     "output_type": "stream",
     "text": [
      "Element (0, 0) of y:  1\n",
      "Element (0, 1) of y:  2\n",
      "Element (1, 2) of y:  6\n"
     ]
    }
   ],
   "source": [
    "print('Element (0, 0) of y: ', y[0, 0])\n",
    "print('Element (0, 1) of y: ', y[0, 1])\n",
    "print('Element (1, 2) of y: ', y[1, 2])"
   ]
  },
  {
   "cell_type": "code",
   "execution_count": 15,
   "metadata": {},
   "outputs": [
    {
     "data": {
      "text/plain": [
       "array([[20,  2,  3],\n",
       "       [ 4,  5,  6],\n",
       "       [ 7,  8,  9]])"
      ]
     },
     "execution_count": 15,
     "metadata": {},
     "output_type": "execute_result"
    }
   ],
   "source": [
    "y[0, 0] = 20\n",
    "y"
   ]
  },
  {
   "cell_type": "code",
   "execution_count": 18,
   "metadata": {},
   "outputs": [
    {
     "name": "stdout",
     "output_type": "stream",
     "text": [
      "[[ 0  1  2  3]\n",
      " [ 4  5  6  7]\n",
      " [ 8  9 10 11]\n",
      " [12 13 14 15]]\n",
      "[ 1  2  3  5  6  7  8  9 10 11 12 13 14 15]\n"
     ]
    }
   ],
   "source": [
    "z = np.arange(0, 16).reshape(4, 4)\n",
    "print(z)\n",
    "\n",
    "z = np.delete(z, [0,4])\n",
    "print(z)"
   ]
  },
  {
   "cell_type": "code",
   "execution_count": 27,
   "metadata": {},
   "outputs": [
    {
     "name": "stdout",
     "output_type": "stream",
     "text": [
      "[[0 1 2]\n",
      " [3 4 5]\n",
      " [6 7 8]]\n",
      "\n",
      " [[3 4 5]\n",
      " [6 7 8]]\n",
      "\n",
      " [[1]\n",
      " [4]\n",
      " [7]]\n"
     ]
    }
   ],
   "source": [
    "w = np.arange(0, 9).reshape(3, 3)\n",
    "print(w)\n",
    "\n",
    "print('\\n', np.delete(w, 0, axis=0))\n",
    "\n",
    "print('\\n', np.delete(w, [0,2], axis=1))"
   ]
  },
  {
   "cell_type": "code",
   "execution_count": 30,
   "metadata": {},
   "outputs": [
    {
     "name": "stdout",
     "output_type": "stream",
     "text": [
      "[1 2 3 4 5 6]\n",
      "[1 2 3 4 5 7 8]\n"
     ]
    }
   ],
   "source": [
    "x = np.arange(1, 6)\n",
    "print(np.append(x, 6))\n",
    "print(np.append(x, [7, 8]))"
   ]
  },
  {
   "cell_type": "code",
   "execution_count": 35,
   "metadata": {},
   "outputs": [
    {
     "name": "stdout",
     "output_type": "stream",
     "text": [
      "[[ 0  1  2]\n",
      " [ 3  4  5]\n",
      " [ 6  7  8]\n",
      " [10 11 12]]\n"
     ]
    }
   ],
   "source": [
    "y = np.arange(0, 9).reshape(3, 3)\n",
    "print(np.append(y, [[10, 11, 12]], axis=0))"
   ]
  },
  {
   "cell_type": "code",
   "execution_count": 39,
   "metadata": {},
   "outputs": [
    {
     "name": "stdout",
     "output_type": "stream",
     "text": [
      "[[ 0  1  2 10]\n",
      " [ 3  4  5 11]\n",
      " [ 6  7  8 12]]\n"
     ]
    }
   ],
   "source": [
    "z = np.arange(0, 9).reshape(3, 3)\n",
    "print(np.append(z, [[10], [11], [12]], axis=1))"
   ]
  },
  {
   "cell_type": "code",
   "execution_count": 40,
   "metadata": {},
   "outputs": [
    {
     "name": "stdout",
     "output_type": "stream",
     "text": [
      "[0 1 3 4 2 3 4]\n"
     ]
    }
   ],
   "source": [
    "w = np.arange(0, 5)\n",
    "print(np.insert(w, 2, [3, 4]))"
   ]
  },
  {
   "cell_type": "code",
   "execution_count": 48,
   "metadata": {},
   "outputs": [
    {
     "name": "stdout",
     "output_type": "stream",
     "text": [
      "[[0 1 2]\n",
      " [6 7 8]\n",
      " [3 4 5]]\n"
     ]
    }
   ],
   "source": [
    "w = np.arange(0, 6).reshape(2, 3)\n",
    "print(np.insert(w, 1, [6, 7, 8], axis=0))"
   ]
  },
  {
   "cell_type": "code",
   "execution_count": 49,
   "metadata": {},
   "outputs": [
    {
     "name": "stdout",
     "output_type": "stream",
     "text": [
      "[[0 5 1 2]\n",
      " [3 5 4 5]]\n"
     ]
    }
   ],
   "source": [
    "w = np.arange(0, 6).reshape(2, 3)\n",
    "print(np.insert(w, 1, 5, axis=1))"
   ]
  },
  {
   "cell_type": "code",
   "execution_count": 55,
   "metadata": {},
   "outputs": [
    {
     "name": "stdout",
     "output_type": "stream",
     "text": [
      "[1 2] \n",
      "\n",
      "[[3 4]\n",
      " [5 6]] \n",
      "\n",
      "[[1 2]\n",
      " [3 4]\n",
      " [5 6]] \n",
      "\n",
      "[[3 4 1]\n",
      " [5 6 2]]\n"
     ]
    }
   ],
   "source": [
    "x = np.array([1, 2])\n",
    "y = np.arange(3, 7).reshape(2, 2)\n",
    "print(x, '\\n')\n",
    "print(y, '\\n')\n",
    "print(np.vstack((x, y)), '\\n')\n",
    "print(np.hstack((y, x.reshape(2, 1))))"
   ]
  },
  {
   "cell_type": "code",
   "execution_count": null,
   "metadata": {},
   "outputs": [],
   "source": []
  }
 ],
 "metadata": {
  "kernelspec": {
   "display_name": "base",
   "language": "python",
   "name": "python3"
  },
  "language_info": {
   "codemirror_mode": {
    "name": "ipython",
    "version": 3
   },
   "file_extension": ".py",
   "mimetype": "text/x-python",
   "name": "python",
   "nbconvert_exporter": "python",
   "pygments_lexer": "ipython3",
   "version": "3.9.12"
  }
 },
 "nbformat": 4,
 "nbformat_minor": 2
}
